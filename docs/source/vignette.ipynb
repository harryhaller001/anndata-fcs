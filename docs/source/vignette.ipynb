{
 "cells": [
  {
   "cell_type": "markdown",
   "metadata": {},
   "source": [
    "# Vignette\n",
    "\n",
    "Example workflow to convert CITESeq data to FCS file format.\n",
    "\n",
    "This example used to 5k PBMC NextGEM dataset from 10X.\n",
    "\n",
    "Download data from: http://cf.10xgenomics.com/samples/cell-exp/3.1.0/5k_pbmc_protein_v3_nextgem/5k_pbmc_protein_v3_nextgem_filtered_feature_bc_matrix.h5"
   ]
  },
  {
   "cell_type": "code",
   "execution_count": 1,
   "metadata": {},
   "outputs": [],
   "source": [
    "import os\n",
    "\n",
    "import scanpy as sc\n",
    "\n",
    "from anndata_fcs import anndata_to_fcs, fcs_to_anndata, fcs_to_dataframe, gate_polygon, scatter, gate_polygon_subset"
   ]
  },
  {
   "cell_type": "markdown",
   "metadata": {},
   "source": [
    "### Load anndata object from rawdata"
   ]
  },
  {
   "cell_type": "code",
   "execution_count": 2,
   "metadata": {},
   "outputs": [
    {
     "name": "stderr",
     "output_type": "stream",
     "text": [
      "/home/malte/Dokumente/Github/citeseq_to_fcs/venv/lib/python3.10/site-packages/anndata/_core/anndata.py:1758: UserWarning: Variable names are not unique. To make them unique, call `.var_names_make_unique`.\n",
      "  utils.warn_names_duplicates(\"var\")\n"
     ]
    }
   ],
   "source": [
    "adata = sc.read_10x_h5(\n",
    "    filename=os.path.join(os.getcwd(), \"..\", \"..\", \"data\", \"5k_pbmc_protein_v3_nextgem_filtered_feature_bc_matrix.h5\"),\n",
    "    gex_only=False,\n",
    ")\n",
    "adata.var_names_make_unique()"
   ]
  },
  {
   "cell_type": "markdown",
   "metadata": {},
   "source": [
    "### Filter CITESeq data"
   ]
  },
  {
   "cell_type": "code",
   "execution_count": 3,
   "metadata": {},
   "outputs": [
    {
     "data": {
      "text/plain": [
       "View of AnnData object with n_obs × n_vars = 5527 × 32\n",
       "    var: 'gene_ids', 'feature_types', 'genome', 'pattern', 'read', 'sequence'"
      ]
     },
     "execution_count": 3,
     "metadata": {},
     "output_type": "execute_result"
    }
   ],
   "source": [
    "adata_citeseq = adata[:, adata.var[\"feature_types\"] == \"Antibody Capture\"]\n",
    "adata_citeseq"
   ]
  },
  {
   "cell_type": "markdown",
   "metadata": {},
   "source": [
    "### Generate FCS file"
   ]
  },
  {
   "cell_type": "code",
   "execution_count": 4,
   "metadata": {},
   "outputs": [],
   "source": [
    "# Convert data\n",
    "fcs_data = anndata_to_fcs(adata_citeseq)"
   ]
  },
  {
   "cell_type": "code",
   "execution_count": 5,
   "metadata": {},
   "outputs": [
    {
     "data": {
      "text/html": [
       "<div>\n",
       "<style scoped>\n",
       "    .dataframe tbody tr th:only-of-type {\n",
       "        vertical-align: middle;\n",
       "    }\n",
       "\n",
       "    .dataframe tbody tr th {\n",
       "        vertical-align: top;\n",
       "    }\n",
       "\n",
       "    .dataframe thead th {\n",
       "        text-align: right;\n",
       "    }\n",
       "</style>\n",
       "<table border=\"1\" class=\"dataframe\">\n",
       "  <thead>\n",
       "    <tr style=\"text-align: right;\">\n",
       "      <th></th>\n",
       "      <th>barcode_rank</th>\n",
       "    </tr>\n",
       "  </thead>\n",
       "  <tbody>\n",
       "    <tr>\n",
       "      <th>AAACCCACAGGCTTGC-1</th>\n",
       "      <td>0</td>\n",
       "    </tr>\n",
       "    <tr>\n",
       "      <th>AAACCCAGTAGTTAGA-1</th>\n",
       "      <td>1</td>\n",
       "    </tr>\n",
       "    <tr>\n",
       "      <th>AAACGAAGTAACGATA-1</th>\n",
       "      <td>2</td>\n",
       "    </tr>\n",
       "    <tr>\n",
       "      <th>AAACGAAGTGGATCAG-1</th>\n",
       "      <td>3</td>\n",
       "    </tr>\n",
       "    <tr>\n",
       "      <th>AAACGAATCATGAGAA-1</th>\n",
       "      <td>4</td>\n",
       "    </tr>\n",
       "  </tbody>\n",
       "</table>\n",
       "</div>"
      ],
      "text/plain": [
       "                    barcode_rank\n",
       "AAACCCACAGGCTTGC-1             0\n",
       "AAACCCAGTAGTTAGA-1             1\n",
       "AAACGAAGTAACGATA-1             2\n",
       "AAACGAAGTGGATCAG-1             3\n",
       "AAACGAATCATGAGAA-1             4"
      ]
     },
     "execution_count": 5,
     "metadata": {},
     "output_type": "execute_result"
    }
   ],
   "source": [
    "adata_citeseq.obs.head()"
   ]
  },
  {
   "cell_type": "code",
   "execution_count": 6,
   "metadata": {},
   "outputs": [],
   "source": [
    "# Save fcs file\n",
    "fcs_data.write_fcs(os.path.join(os.getcwd(), \"..\", \"..\", \"data\", \"citeseq.fcs\"))"
   ]
  },
  {
   "cell_type": "code",
   "execution_count": 7,
   "metadata": {},
   "outputs": [
    {
     "data": {
      "text/html": [
       "<div>\n",
       "<style scoped>\n",
       "    .dataframe tbody tr th:only-of-type {\n",
       "        vertical-align: middle;\n",
       "    }\n",
       "\n",
       "    .dataframe tbody tr th {\n",
       "        vertical-align: top;\n",
       "    }\n",
       "\n",
       "    .dataframe thead th {\n",
       "        text-align: right;\n",
       "    }\n",
       "</style>\n",
       "<table border=\"1\" class=\"dataframe\">\n",
       "  <thead>\n",
       "    <tr style=\"text-align: right;\">\n",
       "      <th></th>\n",
       "      <th>CD3_TotalSeqB</th>\n",
       "      <th>CD4_TotalSeqB</th>\n",
       "      <th>CD8a_TotalSeqB</th>\n",
       "      <th>CD11b_TotalSeqB</th>\n",
       "      <th>CD14_TotalSeqB</th>\n",
       "      <th>CD15_TotalSeqB</th>\n",
       "      <th>CD16_TotalSeqB</th>\n",
       "      <th>CD19_TotalSeqB</th>\n",
       "      <th>CD20_TotalSeqB</th>\n",
       "      <th>CD25_TotalSeqB</th>\n",
       "      <th>...</th>\n",
       "      <th>CD274_TotalSeqB</th>\n",
       "      <th>CD278_TotalSeqB</th>\n",
       "      <th>CD335_TotalSeqB</th>\n",
       "      <th>PD-1_TotalSeqB</th>\n",
       "      <th>HLA-DR_TotalSeqB</th>\n",
       "      <th>TIGIT_TotalSeqB</th>\n",
       "      <th>IgG1_control_TotalSeqB</th>\n",
       "      <th>IgG2a_control_TotalSeqB</th>\n",
       "      <th>IgG2b_control_TotalSeqB</th>\n",
       "      <th>barcode_rank</th>\n",
       "    </tr>\n",
       "  </thead>\n",
       "  <tbody>\n",
       "    <tr>\n",
       "      <th>0</th>\n",
       "      <td>12.0</td>\n",
       "      <td>280.0</td>\n",
       "      <td>9.0</td>\n",
       "      <td>3122.0</td>\n",
       "      <td>746.0</td>\n",
       "      <td>9.0</td>\n",
       "      <td>1.0</td>\n",
       "      <td>5.0</td>\n",
       "      <td>2.0</td>\n",
       "      <td>4.0</td>\n",
       "      <td>...</td>\n",
       "      <td>2.0</td>\n",
       "      <td>6.0</td>\n",
       "      <td>8.0</td>\n",
       "      <td>4.0</td>\n",
       "      <td>101.0</td>\n",
       "      <td>4.0</td>\n",
       "      <td>5.0</td>\n",
       "      <td>2.0</td>\n",
       "      <td>4.0</td>\n",
       "      <td>0.0</td>\n",
       "    </tr>\n",
       "    <tr>\n",
       "      <th>1</th>\n",
       "      <td>24.0</td>\n",
       "      <td>231.0</td>\n",
       "      <td>11.0</td>\n",
       "      <td>1241.0</td>\n",
       "      <td>355.0</td>\n",
       "      <td>10.0</td>\n",
       "      <td>2.0</td>\n",
       "      <td>4.0</td>\n",
       "      <td>11.0</td>\n",
       "      <td>5.0</td>\n",
       "      <td>...</td>\n",
       "      <td>1.0</td>\n",
       "      <td>4.0</td>\n",
       "      <td>8.0</td>\n",
       "      <td>8.0</td>\n",
       "      <td>1450.0</td>\n",
       "      <td>5.0</td>\n",
       "      <td>0.0</td>\n",
       "      <td>1.0</td>\n",
       "      <td>1.0</td>\n",
       "      <td>1.0</td>\n",
       "    </tr>\n",
       "    <tr>\n",
       "      <th>2</th>\n",
       "      <td>23.0</td>\n",
       "      <td>117.0</td>\n",
       "      <td>3.0</td>\n",
       "      <td>582.0</td>\n",
       "      <td>133.0</td>\n",
       "      <td>7.0</td>\n",
       "      <td>4.0</td>\n",
       "      <td>1.0</td>\n",
       "      <td>7.0</td>\n",
       "      <td>3.0</td>\n",
       "      <td>...</td>\n",
       "      <td>4.0</td>\n",
       "      <td>5.0</td>\n",
       "      <td>2.0</td>\n",
       "      <td>2.0</td>\n",
       "      <td>524.0</td>\n",
       "      <td>2.0</td>\n",
       "      <td>1.0</td>\n",
       "      <td>4.0</td>\n",
       "      <td>2.0</td>\n",
       "      <td>2.0</td>\n",
       "    </tr>\n",
       "    <tr>\n",
       "      <th>3</th>\n",
       "      <td>8.0</td>\n",
       "      <td>83.0</td>\n",
       "      <td>1.0</td>\n",
       "      <td>1966.0</td>\n",
       "      <td>675.0</td>\n",
       "      <td>7.0</td>\n",
       "      <td>2.0</td>\n",
       "      <td>3.0</td>\n",
       "      <td>8.0</td>\n",
       "      <td>3.0</td>\n",
       "      <td>...</td>\n",
       "      <td>3.0</td>\n",
       "      <td>2.0</td>\n",
       "      <td>2.0</td>\n",
       "      <td>5.0</td>\n",
       "      <td>216.0</td>\n",
       "      <td>0.0</td>\n",
       "      <td>5.0</td>\n",
       "      <td>1.0</td>\n",
       "      <td>3.0</td>\n",
       "      <td>3.0</td>\n",
       "    </tr>\n",
       "    <tr>\n",
       "      <th>4</th>\n",
       "      <td>726.0</td>\n",
       "      <td>1100.0</td>\n",
       "      <td>5.0</td>\n",
       "      <td>14.0</td>\n",
       "      <td>13.0</td>\n",
       "      <td>6.0</td>\n",
       "      <td>2.0</td>\n",
       "      <td>7.0</td>\n",
       "      <td>6.0</td>\n",
       "      <td>11.0</td>\n",
       "      <td>...</td>\n",
       "      <td>2.0</td>\n",
       "      <td>129.0</td>\n",
       "      <td>4.0</td>\n",
       "      <td>5.0</td>\n",
       "      <td>9.0</td>\n",
       "      <td>5.0</td>\n",
       "      <td>1.0</td>\n",
       "      <td>3.0</td>\n",
       "      <td>4.0</td>\n",
       "      <td>4.0</td>\n",
       "    </tr>\n",
       "  </tbody>\n",
       "</table>\n",
       "<p>5 rows × 33 columns</p>\n",
       "</div>"
      ],
      "text/plain": [
       "   CD3_TotalSeqB  CD4_TotalSeqB  CD8a_TotalSeqB  CD11b_TotalSeqB  \\\n",
       "0           12.0          280.0             9.0           3122.0   \n",
       "1           24.0          231.0            11.0           1241.0   \n",
       "2           23.0          117.0             3.0            582.0   \n",
       "3            8.0           83.0             1.0           1966.0   \n",
       "4          726.0         1100.0             5.0             14.0   \n",
       "\n",
       "   CD14_TotalSeqB  CD15_TotalSeqB  CD16_TotalSeqB  CD19_TotalSeqB  \\\n",
       "0           746.0             9.0             1.0             5.0   \n",
       "1           355.0            10.0             2.0             4.0   \n",
       "2           133.0             7.0             4.0             1.0   \n",
       "3           675.0             7.0             2.0             3.0   \n",
       "4            13.0             6.0             2.0             7.0   \n",
       "\n",
       "   CD20_TotalSeqB  CD25_TotalSeqB  ...  CD274_TotalSeqB  CD278_TotalSeqB  \\\n",
       "0             2.0             4.0  ...              2.0              6.0   \n",
       "1            11.0             5.0  ...              1.0              4.0   \n",
       "2             7.0             3.0  ...              4.0              5.0   \n",
       "3             8.0             3.0  ...              3.0              2.0   \n",
       "4             6.0            11.0  ...              2.0            129.0   \n",
       "\n",
       "   CD335_TotalSeqB  PD-1_TotalSeqB  HLA-DR_TotalSeqB  TIGIT_TotalSeqB  \\\n",
       "0              8.0             4.0             101.0              4.0   \n",
       "1              8.0             8.0            1450.0              5.0   \n",
       "2              2.0             2.0             524.0              2.0   \n",
       "3              2.0             5.0             216.0              0.0   \n",
       "4              4.0             5.0               9.0              5.0   \n",
       "\n",
       "   IgG1_control_TotalSeqB  IgG2a_control_TotalSeqB  IgG2b_control_TotalSeqB  \\\n",
       "0                     5.0                      2.0                      4.0   \n",
       "1                     0.0                      1.0                      1.0   \n",
       "2                     1.0                      4.0                      2.0   \n",
       "3                     5.0                      1.0                      3.0   \n",
       "4                     1.0                      3.0                      4.0   \n",
       "\n",
       "   barcode_rank  \n",
       "0           0.0  \n",
       "1           1.0  \n",
       "2           2.0  \n",
       "3           3.0  \n",
       "4           4.0  \n",
       "\n",
       "[5 rows x 33 columns]"
      ]
     },
     "execution_count": 7,
     "metadata": {},
     "output_type": "execute_result"
    }
   ],
   "source": [
    "fcs_df = fcs_to_dataframe(fcs_data)\n",
    "fcs_df.head()"
   ]
  },
  {
   "cell_type": "markdown",
   "metadata": {},
   "source": [
    "### Gating on FCS file"
   ]
  },
  {
   "cell_type": "code",
   "execution_count": 8,
   "metadata": {},
   "outputs": [],
   "source": [
    "in_polygon = gate_polygon(\n",
    "    fcs_data,\n",
    "    x=\"CD3_TotalSeqB\",\n",
    "    y=\"CD4_TotalSeqB\",\n",
    "    polygon=[[90, 200], [5000, 200], [5000, 5000], [90, 5000]],\n",
    ")"
   ]
  },
  {
   "cell_type": "code",
   "execution_count": 9,
   "metadata": {},
   "outputs": [
    {
     "data": {
      "image/png": "[encoded data removed]",
      "text/plain": [
       "<Figure size 500x500 with 1 Axes>"
      ]
     },
     "metadata": {},
     "output_type": "display_data"
    }
   ],
   "source": [
    "ax = scatter(\n",
    "    data=fcs_df,\n",
    "    x=\"CD3_TotalSeqB\",\n",
    "    y=\"CD4_TotalSeqB\",\n",
    "    gates={\"CD3+ CD4+\": [[90, 200], [5000, 200], [5000, 5000], [90, 5000]]},\n",
    "    highlight=in_polygon,\n",
    "    highlight_color=\"orange\",\n",
    "    color=\"gray\",\n",
    ")"
   ]
  },
  {
   "cell_type": "code",
   "execution_count": 10,
   "metadata": {},
   "outputs": [
    {
     "data": {
      "text/html": [
       "<div>\n",
       "<style scoped>\n",
       "    .dataframe tbody tr th:only-of-type {\n",
       "        vertical-align: middle;\n",
       "    }\n",
       "\n",
       "    .dataframe tbody tr th {\n",
       "        vertical-align: top;\n",
       "    }\n",
       "\n",
       "    .dataframe thead th {\n",
       "        text-align: right;\n",
       "    }\n",
       "</style>\n",
       "<table border=\"1\" class=\"dataframe\">\n",
       "  <thead>\n",
       "    <tr style=\"text-align: right;\">\n",
       "      <th></th>\n",
       "      <th>CD3_TotalSeqB</th>\n",
       "      <th>CD4_TotalSeqB</th>\n",
       "      <th>CD8a_TotalSeqB</th>\n",
       "      <th>CD11b_TotalSeqB</th>\n",
       "      <th>CD14_TotalSeqB</th>\n",
       "      <th>CD15_TotalSeqB</th>\n",
       "      <th>CD16_TotalSeqB</th>\n",
       "      <th>CD19_TotalSeqB</th>\n",
       "      <th>CD20_TotalSeqB</th>\n",
       "      <th>CD25_TotalSeqB</th>\n",
       "      <th>...</th>\n",
       "      <th>CD274_TotalSeqB</th>\n",
       "      <th>CD278_TotalSeqB</th>\n",
       "      <th>CD335_TotalSeqB</th>\n",
       "      <th>PD-1_TotalSeqB</th>\n",
       "      <th>HLA-DR_TotalSeqB</th>\n",
       "      <th>TIGIT_TotalSeqB</th>\n",
       "      <th>IgG1_control_TotalSeqB</th>\n",
       "      <th>IgG2a_control_TotalSeqB</th>\n",
       "      <th>IgG2b_control_TotalSeqB</th>\n",
       "      <th>barcode_rank</th>\n",
       "    </tr>\n",
       "  </thead>\n",
       "  <tbody>\n",
       "    <tr>\n",
       "      <th>0</th>\n",
       "      <td>726.0</td>\n",
       "      <td>1100.0</td>\n",
       "      <td>5.0</td>\n",
       "      <td>14.0</td>\n",
       "      <td>13.0</td>\n",
       "      <td>6.0</td>\n",
       "      <td>2.0</td>\n",
       "      <td>7.0</td>\n",
       "      <td>6.0</td>\n",
       "      <td>11.0</td>\n",
       "      <td>...</td>\n",
       "      <td>2.0</td>\n",
       "      <td>129.0</td>\n",
       "      <td>4.0</td>\n",
       "      <td>5.0</td>\n",
       "      <td>9.0</td>\n",
       "      <td>5.0</td>\n",
       "      <td>1.0</td>\n",
       "      <td>3.0</td>\n",
       "      <td>4.0</td>\n",
       "      <td>4.0</td>\n",
       "    </tr>\n",
       "    <tr>\n",
       "      <th>1</th>\n",
       "      <td>342.0</td>\n",
       "      <td>1086.0</td>\n",
       "      <td>2.0</td>\n",
       "      <td>9.0</td>\n",
       "      <td>10.0</td>\n",
       "      <td>4.0</td>\n",
       "      <td>1.0</td>\n",
       "      <td>3.0</td>\n",
       "      <td>7.0</td>\n",
       "      <td>11.0</td>\n",
       "      <td>...</td>\n",
       "      <td>5.0</td>\n",
       "      <td>44.0</td>\n",
       "      <td>3.0</td>\n",
       "      <td>5.0</td>\n",
       "      <td>14.0</td>\n",
       "      <td>12.0</td>\n",
       "      <td>0.0</td>\n",
       "      <td>2.0</td>\n",
       "      <td>4.0</td>\n",
       "      <td>5.0</td>\n",
       "    </tr>\n",
       "    <tr>\n",
       "      <th>2</th>\n",
       "      <td>125.0</td>\n",
       "      <td>1144.0</td>\n",
       "      <td>1.0</td>\n",
       "      <td>26.0</td>\n",
       "      <td>8.0</td>\n",
       "      <td>8.0</td>\n",
       "      <td>2.0</td>\n",
       "      <td>2.0</td>\n",
       "      <td>5.0</td>\n",
       "      <td>17.0</td>\n",
       "      <td>...</td>\n",
       "      <td>4.0</td>\n",
       "      <td>36.0</td>\n",
       "      <td>0.0</td>\n",
       "      <td>4.0</td>\n",
       "      <td>11.0</td>\n",
       "      <td>2.0</td>\n",
       "      <td>3.0</td>\n",
       "      <td>2.0</td>\n",
       "      <td>1.0</td>\n",
       "      <td>7.0</td>\n",
       "    </tr>\n",
       "    <tr>\n",
       "      <th>3</th>\n",
       "      <td>538.0</td>\n",
       "      <td>1065.0</td>\n",
       "      <td>3.0</td>\n",
       "      <td>11.0</td>\n",
       "      <td>15.0</td>\n",
       "      <td>5.0</td>\n",
       "      <td>3.0</td>\n",
       "      <td>2.0</td>\n",
       "      <td>6.0</td>\n",
       "      <td>2.0</td>\n",
       "      <td>...</td>\n",
       "      <td>3.0</td>\n",
       "      <td>44.0</td>\n",
       "      <td>2.0</td>\n",
       "      <td>12.0</td>\n",
       "      <td>9.0</td>\n",
       "      <td>0.0</td>\n",
       "      <td>3.0</td>\n",
       "      <td>0.0</td>\n",
       "      <td>1.0</td>\n",
       "      <td>9.0</td>\n",
       "    </tr>\n",
       "    <tr>\n",
       "      <th>4</th>\n",
       "      <td>224.0</td>\n",
       "      <td>531.0</td>\n",
       "      <td>1.0</td>\n",
       "      <td>11.0</td>\n",
       "      <td>4.0</td>\n",
       "      <td>2.0</td>\n",
       "      <td>2.0</td>\n",
       "      <td>2.0</td>\n",
       "      <td>1.0</td>\n",
       "      <td>12.0</td>\n",
       "      <td>...</td>\n",
       "      <td>0.0</td>\n",
       "      <td>14.0</td>\n",
       "      <td>1.0</td>\n",
       "      <td>2.0</td>\n",
       "      <td>9.0</td>\n",
       "      <td>2.0</td>\n",
       "      <td>1.0</td>\n",
       "      <td>1.0</td>\n",
       "      <td>4.0</td>\n",
       "      <td>10.0</td>\n",
       "    </tr>\n",
       "  </tbody>\n",
       "</table>\n",
       "<p>5 rows × 33 columns</p>\n",
       "</div>"
      ],
      "text/plain": [
       "   CD3_TotalSeqB  CD4_TotalSeqB  CD8a_TotalSeqB  CD11b_TotalSeqB  \\\n",
       "0          726.0         1100.0             5.0             14.0   \n",
       "1          342.0         1086.0             2.0              9.0   \n",
       "2          125.0         1144.0             1.0             26.0   \n",
       "3          538.0         1065.0             3.0             11.0   \n",
       "4          224.0          531.0             1.0             11.0   \n",
       "\n",
       "   CD14_TotalSeqB  CD15_TotalSeqB  CD16_TotalSeqB  CD19_TotalSeqB  \\\n",
       "0            13.0             6.0             2.0             7.0   \n",
       "1            10.0             4.0             1.0             3.0   \n",
       "2             8.0             8.0             2.0             2.0   \n",
       "3            15.0             5.0             3.0             2.0   \n",
       "4             4.0             2.0             2.0             2.0   \n",
       "\n",
       "   CD20_TotalSeqB  CD25_TotalSeqB  ...  CD274_TotalSeqB  CD278_TotalSeqB  \\\n",
       "0             6.0            11.0  ...              2.0            129.0   \n",
       "1             7.0            11.0  ...              5.0             44.0   \n",
       "2             5.0            17.0  ...              4.0             36.0   \n",
       "3             6.0             2.0  ...              3.0             44.0   \n",
       "4             1.0            12.0  ...              0.0             14.0   \n",
       "\n",
       "   CD335_TotalSeqB  PD-1_TotalSeqB  HLA-DR_TotalSeqB  TIGIT_TotalSeqB  \\\n",
       "0              4.0             5.0               9.0              5.0   \n",
       "1              3.0             5.0              14.0             12.0   \n",
       "2              0.0             4.0              11.0              2.0   \n",
       "3              2.0            12.0               9.0              0.0   \n",
       "4              1.0             2.0               9.0              2.0   \n",
       "\n",
       "   IgG1_control_TotalSeqB  IgG2a_control_TotalSeqB  IgG2b_control_TotalSeqB  \\\n",
       "0                     1.0                      3.0                      4.0   \n",
       "1                     0.0                      2.0                      4.0   \n",
       "2                     3.0                      2.0                      1.0   \n",
       "3                     3.0                      0.0                      1.0   \n",
       "4                     1.0                      1.0                      4.0   \n",
       "\n",
       "   barcode_rank  \n",
       "0           4.0  \n",
       "1           5.0  \n",
       "2           7.0  \n",
       "3           9.0  \n",
       "4          10.0  \n",
       "\n",
       "[5 rows x 33 columns]"
      ]
     },
     "execution_count": 10,
     "metadata": {},
     "output_type": "execute_result"
    }
   ],
   "source": [
    "fcs_to_dataframe(\n",
    "    gate_polygon_subset(\n",
    "        fcs_data,\n",
    "        x=\"CD3_TotalSeqB\",\n",
    "        y=\"CD4_TotalSeqB\",\n",
    "        polygon=[[90, 200], [5000, 200], [5000, 5000], [90, 5000]],\n",
    "    )\n",
    ").head()"
   ]
  },
  {
   "cell_type": "code",
   "execution_count": 11,
   "metadata": {},
   "outputs": [
    {
     "data": {
      "image/png": "[encoded data removed]",
      "text/plain": [
       "<Figure size 500x500 with 1 Axes>"
      ]
     },
     "metadata": {},
     "output_type": "display_data"
    }
   ],
   "source": [
    "ax = scatter(\n",
    "    data=fcs_to_dataframe(\n",
    "        gate_polygon_subset(\n",
    "            fcs_data,\n",
    "            x=\"CD3_TotalSeqB\",\n",
    "            y=\"CD4_TotalSeqB\",\n",
    "            polygon=[[90, 200], [5000, 200], [5000, 5000], [90, 5000]],\n",
    "        )\n",
    "    ),\n",
    "    x=\"CD3_TotalSeqB\",\n",
    "    y=\"CD4_TotalSeqB\",\n",
    ")"
   ]
  },
  {
   "cell_type": "markdown",
   "metadata": {},
   "source": [
    "### Recover anndata from gated FCS file"
   ]
  },
  {
   "cell_type": "code",
   "execution_count": 12,
   "metadata": {},
   "outputs": [
    {
     "data": {
      "text/plain": [
       "AnnData object with n_obs × n_vars = 2581 × 33"
      ]
     },
     "execution_count": 12,
     "metadata": {},
     "output_type": "execute_result"
    }
   ],
   "source": [
    "adata_output = fcs_to_anndata(\n",
    "    gate_polygon_subset(\n",
    "        fcs_data,\n",
    "        x=\"CD3_TotalSeqB\",\n",
    "        y=\"CD4_TotalSeqB\",\n",
    "        polygon=[[90, 200], [5000, 200], [5000, 5000], [90, 5000]],\n",
    "    ),\n",
    "    include_metadata=False,\n",
    ")\n",
    "adata_output"
   ]
  },
  {
   "cell_type": "code",
   "execution_count": 13,
   "metadata": {},
   "outputs": [
    {
     "data": {
      "text/plain": [
       "View of AnnData object with n_obs × n_vars = 2581 × 32\n",
       "    obs: 'barcode_rank'\n",
       "    var: 'gene_ids', 'feature_types', 'genome', 'pattern', 'read', 'sequence'"
      ]
     },
     "execution_count": 13,
     "metadata": {},
     "output_type": "execute_result"
    }
   ],
   "source": [
    "adata_citeseq[adata_citeseq.obs[\"barcode_rank\"].isin(adata_output[:, [\"barcode_rank\"]].X.flatten()), :]"
   ]
  }
 ],
 "metadata": {
  "kernelspec": {
   "display_name": "venv",
   "language": "python",
   "name": "python3"
  },
  "language_info": {
   "codemirror_mode": {
    "name": "ipython",
    "version": 3
   },
   "file_extension": ".py",
   "mimetype": "text/x-python",
   "name": "python",
   "nbconvert_exporter": "python",
   "pygments_lexer": "ipython3",
   "version": "3.10.17"
  }
 },
 "nbformat": 4,
 "nbformat_minor": 2
}
